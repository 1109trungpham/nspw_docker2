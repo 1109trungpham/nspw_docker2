{
 "cells": [
  {
   "cell_type": "code",
   "execution_count": 17,
   "id": "adc50766",
   "metadata": {},
   "outputs": [
    {
     "name": "stdout",
     "output_type": "stream",
     "text": [
      "782.17s - pydevd: Sending message related to process being replaced timed-out after 5 seconds\n",
      "Requirement already satisfied: requests in /Library/Frameworks/Python.framework/Versions/3.11/lib/python3.11/site-packages (2.31.0)\n",
      "Requirement already satisfied: pandas in /Library/Frameworks/Python.framework/Versions/3.11/lib/python3.11/site-packages (2.0.3)\n",
      "Requirement already satisfied: charset-normalizer<4,>=2 in /Library/Frameworks/Python.framework/Versions/3.11/lib/python3.11/site-packages (from requests) (3.2.0)\n",
      "Requirement already satisfied: idna<4,>=2.5 in /Library/Frameworks/Python.framework/Versions/3.11/lib/python3.11/site-packages (from requests) (3.4)\n",
      "Requirement already satisfied: urllib3<3,>=1.21.1 in /Library/Frameworks/Python.framework/Versions/3.11/lib/python3.11/site-packages (from requests) (2.0.4)\n",
      "Requirement already satisfied: certifi>=2017.4.17 in /Library/Frameworks/Python.framework/Versions/3.11/lib/python3.11/site-packages (from requests) (2025.1.31)\n",
      "Requirement already satisfied: python-dateutil>=2.8.2 in /Library/Frameworks/Python.framework/Versions/3.11/lib/python3.11/site-packages (from pandas) (2.8.2)\n",
      "Requirement already satisfied: pytz>=2020.1 in /Library/Frameworks/Python.framework/Versions/3.11/lib/python3.11/site-packages (from pandas) (2023.3)\n",
      "Requirement already satisfied: tzdata>=2022.1 in /Library/Frameworks/Python.framework/Versions/3.11/lib/python3.11/site-packages (from pandas) (2023.3)\n",
      "Requirement already satisfied: numpy>=1.21.0 in /Library/Frameworks/Python.framework/Versions/3.11/lib/python3.11/site-packages (from pandas) (1.25.0)\n",
      "Requirement already satisfied: six>=1.5 in /Library/Frameworks/Python.framework/Versions/3.11/lib/python3.11/site-packages (from python-dateutil>=2.8.2->pandas) (1.16.0)\n",
      "\n",
      "\u001b[1m[\u001b[0m\u001b[34;49mnotice\u001b[0m\u001b[1;39;49m]\u001b[0m\u001b[39;49m A new release of pip is available: \u001b[0m\u001b[31;49m24.0\u001b[0m\u001b[39;49m -> \u001b[0m\u001b[32;49m25.1.1\u001b[0m\n",
      "\u001b[1m[\u001b[0m\u001b[34;49mnotice\u001b[0m\u001b[1;39;49m]\u001b[0m\u001b[39;49m To update, run: \u001b[0m\u001b[32;49mpip install --upgrade pip\u001b[0m\n",
      "Note: you may need to restart the kernel to use updated packages.\n"
     ]
    }
   ],
   "source": [
    "%pip install requests pandas"
   ]
  },
  {
   "cell_type": "markdown",
   "id": "eccaeef7",
   "metadata": {},
   "source": [
    "### Gửi yêu cầu POST đến API `/weather`"
   ]
  },
  {
   "cell_type": "code",
   "execution_count": 18,
   "id": "bc0bb3e0",
   "metadata": {},
   "outputs": [],
   "source": [
    "import requests\n",
    "\n",
    "url = \"http://127.0.0.1:8000/weather\"\n",
    "\n",
    "files = {\n",
    "    'file': open('/Users/trung/Desktop/nspw_docker2/data/asia_1000_locations.csv', 'rb')\n",
    "}\n",
    "data = {\n",
    "    'start_year': '2014',\n",
    "    'end_year': '2024',\n",
    "    'output_format': 'json'\n",
    "}\n",
    "\n",
    "response = requests.post(url, files=files, data=data)\n"
   ]
  },
  {
   "cell_type": "markdown",
   "id": "8f050e4c",
   "metadata": {},
   "source": [
    "### Hiển thị dữ liệu trả về từ API"
   ]
  },
  {
   "cell_type": "code",
   "execution_count": 20,
   "id": "f285f474",
   "metadata": {},
   "outputs": [
    {
     "name": "stdout",
     "output_type": "stream",
     "text": [
      "Duration: 340.9 seconds\n",
      "Location: [76.66196359547577, 21.22516641775757]\n",
      "Header: ['day', 'month', 'year', 'day_of_year', 't2m_max', 't2m_min', 'precipitation']\n"
     ]
    },
    {
     "data": {
      "text/html": [
       "<div>\n",
       "<style scoped>\n",
       "    .dataframe tbody tr th:only-of-type {\n",
       "        vertical-align: middle;\n",
       "    }\n",
       "\n",
       "    .dataframe tbody tr th {\n",
       "        vertical-align: top;\n",
       "    }\n",
       "\n",
       "    .dataframe thead th {\n",
       "        text-align: right;\n",
       "    }\n",
       "</style>\n",
       "<table border=\"1\" class=\"dataframe\">\n",
       "  <thead>\n",
       "    <tr style=\"text-align: right;\">\n",
       "      <th></th>\n",
       "      <th>day</th>\n",
       "      <th>month</th>\n",
       "      <th>year</th>\n",
       "      <th>day_of_year</th>\n",
       "      <th>t2m_max</th>\n",
       "      <th>t2m_min</th>\n",
       "      <th>precipitation</th>\n",
       "    </tr>\n",
       "  </thead>\n",
       "  <tbody>\n",
       "    <tr>\n",
       "      <th>0</th>\n",
       "      <td>1</td>\n",
       "      <td>1</td>\n",
       "      <td>2014</td>\n",
       "      <td>1</td>\n",
       "      <td>29.26</td>\n",
       "      <td>12.98</td>\n",
       "      <td>0.00</td>\n",
       "    </tr>\n",
       "    <tr>\n",
       "      <th>1</th>\n",
       "      <td>2</td>\n",
       "      <td>1</td>\n",
       "      <td>2014</td>\n",
       "      <td>2</td>\n",
       "      <td>29.36</td>\n",
       "      <td>12.81</td>\n",
       "      <td>0.00</td>\n",
       "    </tr>\n",
       "    <tr>\n",
       "      <th>2</th>\n",
       "      <td>3</td>\n",
       "      <td>1</td>\n",
       "      <td>2014</td>\n",
       "      <td>3</td>\n",
       "      <td>29.20</td>\n",
       "      <td>13.20</td>\n",
       "      <td>0.00</td>\n",
       "    </tr>\n",
       "    <tr>\n",
       "      <th>3</th>\n",
       "      <td>4</td>\n",
       "      <td>1</td>\n",
       "      <td>2014</td>\n",
       "      <td>4</td>\n",
       "      <td>30.62</td>\n",
       "      <td>14.43</td>\n",
       "      <td>0.23</td>\n",
       "    </tr>\n",
       "    <tr>\n",
       "      <th>4</th>\n",
       "      <td>5</td>\n",
       "      <td>1</td>\n",
       "      <td>2014</td>\n",
       "      <td>5</td>\n",
       "      <td>28.40</td>\n",
       "      <td>14.81</td>\n",
       "      <td>0.26</td>\n",
       "    </tr>\n",
       "  </tbody>\n",
       "</table>\n",
       "</div>"
      ],
      "text/plain": [
       "   day  month  year  day_of_year  t2m_max  t2m_min  precipitation\n",
       "0    1      1  2014            1    29.26    12.98           0.00\n",
       "1    2      1  2014            2    29.36    12.81           0.00\n",
       "2    3      1  2014            3    29.20    13.20           0.00\n",
       "3    4      1  2014            4    30.62    14.43           0.23\n",
       "4    5      1  2014            5    28.40    14.81           0.26"
      ]
     },
     "metadata": {},
     "output_type": "display_data"
    }
   ],
   "source": [
    "import pandas as pd\n",
    "\n",
    "if response.status_code == 200:\n",
    "    result = response.json()\n",
    "    print(\"Duration:\", result['duration'], \"seconds\")\n",
    "\n",
    "    first = result['data'][0]\n",
    "    print(\"Location:\", first['location'])\n",
    "    print(\"Header:\", first['header'])\n",
    "\n",
    "    df_weather = pd.DataFrame(first['value'], columns=first['header'])\n",
    "    display(df_weather.head())\n",
    "else:\n",
    "    print(\"Error:\", response.status_code, response.text)\n"
   ]
  },
  {
   "cell_type": "markdown",
   "id": "11ce71be",
   "metadata": {},
   "source": [
    "### Tải dữ liệu"
   ]
  },
  {
   "cell_type": "code",
   "execution_count": null,
   "id": "008b2a4b",
   "metadata": {},
   "outputs": [],
   "source": [
    "import json\n",
    "\n",
    "outputfile_name = 'test1000_data'\n",
    "\n",
    "if response.status_code == 200:\n",
    "    with open(f'/Users/trung/Desktop/nspw_docker2/results/{outputfile_name}.csv', 'w', encoding='utf-8') as f:\n",
    "        json.dump(response.json(), f, ensure_ascii=False, indent=2)\n",
    "    print(f\"✅ Dữ liệu đã được lưu vào /results/{outputfile_name}.csv\")\n",
    "else:\n",
    "    print(f\"❌ Lỗi {response.status_code}: {response.text}\")\n"
   ]
  }
 ],
 "metadata": {
  "kernelspec": {
   "display_name": "Python 3",
   "language": "python",
   "name": "python3"
  },
  "language_info": {
   "codemirror_mode": {
    "name": "ipython",
    "version": 3
   },
   "file_extension": ".py",
   "mimetype": "text/x-python",
   "name": "python",
   "nbconvert_exporter": "python",
   "pygments_lexer": "ipython3",
   "version": "3.11.1"
  }
 },
 "nbformat": 4,
 "nbformat_minor": 5
}
